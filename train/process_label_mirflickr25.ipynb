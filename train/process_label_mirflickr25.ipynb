{
 "cells": [
  {
   "cell_type": "code",
   "execution_count": 1,
   "id": "e50e4655",
   "metadata": {},
   "outputs": [],
   "source": [
    "import os\n",
    "import sys\n",
    "import re\n",
    "import pandas as pd\n",
    "import glob\n",
    "import numpy as np\n",
    "import json\n",
    "import tqdm\n",
    "import datetime\n",
    "import matplotlib.pyplot as plt\n",
    "import seaborn as sb\n",
    "from PIL import Image\n",
    "\n",
    "sys.path.append('../')\n",
    "import warnings\n",
    "warnings.filterwarnings('ignore')\n",
    "\n",
    "from src.vision.transientrgs import TransientRegressService\n",
    "from src.vision.iodoorcls import InOutdoorClassifyService"
   ]
  },
  {
   "cell_type": "markdown",
   "id": "61408a1f",
   "metadata": {},
   "source": [
    "# Create label data frame"
   ]
  },
  {
   "cell_type": "code",
   "execution_count": 2,
   "id": "215dffba",
   "metadata": {},
   "outputs": [
    {
     "name": "stdout",
     "output_type": "stream",
     "text": [
      "<src.vision.iodoorcls.InOutdoorClassifyInstance object at 0x000001959D2DC310>\n",
      "<src.vision.transientrgs.TransientRegressInstance object at 0x000001959D2DC1C0>\n"
     ]
    }
   ],
   "source": [
    "print(InOutdoorClassifyService.get_instance())\n",
    "print(TransientRegressService.get_instance())"
   ]
  },
  {
   "cell_type": "code",
   "execution_count": 34,
   "id": "bf9622de",
   "metadata": {},
   "outputs": [],
   "source": [
    "def extract_attributes(img):\n",
    "    place_data = InOutdoorClassifyService.get_instance().predict(img)\n",
    "    transient_data = TransientRegressService.get_instance().predict(img)\n",
    "\n",
    "    data = {\n",
    "        'place_data': place_data,\n",
    "        'transient_data': transient_data\n",
    "    }\n",
    "    return data\n",
    "\n",
    "def get_outdoor(attr):\n",
    "    if type(attr) is str:\n",
    "        attr = attr.replace('\\'', '\"')\n",
    "        attr = json.loads(attr)\n",
    "    iodoor_votes = [p['ioclass'] == 'outdoor' for p in attr['place_data']]\n",
    "    if sum(iodoor_votes) > 2:\n",
    "        return True\n",
    "    return False\n",
    "\n",
    "def read_exif(x):\n",
    "    try:\n",
    "        return open(\n",
    "            x.replace('mirflickr25k\\\\', 'mirflickr25k\\\\meta\\\\exif\\\\').replace('jpg', 'txt').replace('im', 'exif'), 'r').read()\n",
    "    except:\n",
    "        return ''\n",
    "    \n",
    "def extract_oldest_time(exif):\n",
    "    if not exif:\n",
    "        return ''\n",
    "    moments = []\n",
    "    for s in re.findall(r'\\d{4}:\\d{2}:\\d{2} \\d{2}:\\d{2}:\\d{2}', exif):\n",
    "        try:\n",
    "            t = datetime.datetime.strptime(s, '%Y:%m:%d %H:%M:%S')\n",
    "            moments.append(t)\n",
    "        except:\n",
    "            continue\n",
    "\n",
    "    if len(moments) == 0:\n",
    "        return ''\n",
    "\n",
    "    oldest_moment = min(moments)\n",
    "    return oldest_moment.strftime('%Y:%m:%d %H:%M:%S') # get oldest datetime in the file"
   ]
  },
  {
   "cell_type": "code",
   "execution_count": 4,
   "id": "2e19f5a4",
   "metadata": {},
   "outputs": [],
   "source": [
    "data_dir = 'G:\\\\My Drive\\\\MIRFLICKR\\\\'"
   ]
  },
  {
   "cell_type": "code",
   "execution_count": 5,
   "id": "35a268f9",
   "metadata": {},
   "outputs": [],
   "source": [
    "imgs = glob.glob(os.path.join(data_dir, 'mirflickr25k', '*.jpg'))\n",
    "df = pd.DataFrame({'img': imgs})"
   ]
  },
  {
   "cell_type": "code",
   "execution_count": 6,
   "id": "314384f7",
   "metadata": {},
   "outputs": [],
   "source": [
    "df['attr'] = df['img'].apply(lambda x: extract_attributes(x))"
   ]
  },
  {
   "cell_type": "code",
   "execution_count": 7,
   "id": "e7098697",
   "metadata": {},
   "outputs": [],
   "source": [
    "df['exif'] = df['img'].apply(lambda x: read_exif(x))"
   ]
  },
  {
   "cell_type": "code",
   "execution_count": 8,
   "id": "4153b073",
   "metadata": {},
   "outputs": [],
   "source": [
    "df['time'] = df['exif'].apply(lambda x: extract_oldest_time(x))"
   ]
  },
  {
   "cell_type": "code",
   "execution_count": 35,
   "id": "5c1954f6",
   "metadata": {},
   "outputs": [],
   "source": [
    "df['is_outdoor'] = df['attr'].apply(lambda x: get_outdoor(x))"
   ]
  },
  {
   "cell_type": "markdown",
   "id": "c9308ef9",
   "metadata": {},
   "source": [
    "# Or load existed label data frame"
   ]
  },
  {
   "cell_type": "code",
   "execution_count": 2,
   "id": "483f3d3b",
   "metadata": {},
   "outputs": [],
   "source": [
    "df = pd.read_csv('label.tsv', sep='\\t', index_col=0)"
   ]
  },
  {
   "cell_type": "markdown",
   "id": "e22bf9d8",
   "metadata": {},
   "source": [
    "# Filter out images"
   ]
  },
  {
   "cell_type": "code",
   "execution_count": 3,
   "id": "f416ca13",
   "metadata": {},
   "outputs": [],
   "source": [
    "df = df[(df['time'].notna()) & (df['is_outdoor'] == True)]"
   ]
  },
  {
   "cell_type": "code",
   "execution_count": 4,
   "id": "f6e62ba5",
   "metadata": {},
   "outputs": [
    {
     "name": "stdout",
     "output_type": "stream",
     "text": [
      "10697\n"
     ]
    },
    {
     "data": {
      "text/html": [
       "<div>\n",
       "<style scoped>\n",
       "    .dataframe tbody tr th:only-of-type {\n",
       "        vertical-align: middle;\n",
       "    }\n",
       "\n",
       "    .dataframe tbody tr th {\n",
       "        vertical-align: top;\n",
       "    }\n",
       "\n",
       "    .dataframe thead th {\n",
       "        text-align: right;\n",
       "    }\n",
       "</style>\n",
       "<table border=\"1\" class=\"dataframe\">\n",
       "  <thead>\n",
       "    <tr style=\"text-align: right;\">\n",
       "      <th></th>\n",
       "      <th>img</th>\n",
       "      <th>attr</th>\n",
       "      <th>exif</th>\n",
       "      <th>time</th>\n",
       "      <th>is_outdoor</th>\n",
       "    </tr>\n",
       "  </thead>\n",
       "  <tbody>\n",
       "    <tr>\n",
       "      <th>2</th>\n",
       "      <td>G:\\My Drive\\MIRFLICKR\\mirflickr25k\\im10037.jpg</td>\n",
       "      <td>{'place_data': [{'class': 'pond', 'ioclass': '...</td>\n",
       "      <td>-Image Width\\n2288\\n-Image Length\\n2373\\n-Bits...</td>\n",
       "      <td>2007:11:24 17:06:09</td>\n",
       "      <td>True</td>\n",
       "    </tr>\n",
       "    <tr>\n",
       "      <th>5</th>\n",
       "      <td>G:\\My Drive\\MIRFLICKR\\mirflickr25k\\im1001.jpg</td>\n",
       "      <td>{'place_data': [{'class': 'industrial_area', '...</td>\n",
       "      <td>-Make\\nPanasonic\\n-Model\\nDMC-FX12\\n-Orientati...</td>\n",
       "      <td>2008:05:26 14:35:17</td>\n",
       "      <td>True</td>\n",
       "    </tr>\n",
       "    <tr>\n",
       "      <th>6</th>\n",
       "      <td>G:\\My Drive\\MIRFLICKR\\mirflickr25k\\im1.jpg</td>\n",
       "      <td>{'place_data': [{'class': 'picnic_area', 'iocl...</td>\n",
       "      <td>-Image Width\\n2769\\n-Image Length\\n2769\\n-Bits...</td>\n",
       "      <td>2008:06:21 16:12:37</td>\n",
       "      <td>True</td>\n",
       "    </tr>\n",
       "    <tr>\n",
       "      <th>8</th>\n",
       "      <td>G:\\My Drive\\MIRFLICKR\\mirflickr25k\\im100.jpg</td>\n",
       "      <td>{'place_data': [{'class': 'rice_paddy', 'iocla...</td>\n",
       "      <td>-Image Description\\nThe field filled with a qu...</td>\n",
       "      <td>2008:06:22 07:58:38</td>\n",
       "      <td>True</td>\n",
       "    </tr>\n",
       "    <tr>\n",
       "      <th>9</th>\n",
       "      <td>G:\\My Drive\\MIRFLICKR\\mirflickr25k\\im1000.jpg</td>\n",
       "      <td>{'place_data': [{'class': 'sky', 'ioclass': 'o...</td>\n",
       "      <td>-Make\\nNIKON CORPORATION\\n-Model\\nNIKON D50\\n-...</td>\n",
       "      <td>2008:06:05 02:25:33</td>\n",
       "      <td>True</td>\n",
       "    </tr>\n",
       "  </tbody>\n",
       "</table>\n",
       "</div>"
      ],
      "text/plain": [
       "                                              img  \\\n",
       "2  G:\\My Drive\\MIRFLICKR\\mirflickr25k\\im10037.jpg   \n",
       "5   G:\\My Drive\\MIRFLICKR\\mirflickr25k\\im1001.jpg   \n",
       "6      G:\\My Drive\\MIRFLICKR\\mirflickr25k\\im1.jpg   \n",
       "8    G:\\My Drive\\MIRFLICKR\\mirflickr25k\\im100.jpg   \n",
       "9   G:\\My Drive\\MIRFLICKR\\mirflickr25k\\im1000.jpg   \n",
       "\n",
       "                                                attr  \\\n",
       "2  {'place_data': [{'class': 'pond', 'ioclass': '...   \n",
       "5  {'place_data': [{'class': 'industrial_area', '...   \n",
       "6  {'place_data': [{'class': 'picnic_area', 'iocl...   \n",
       "8  {'place_data': [{'class': 'rice_paddy', 'iocla...   \n",
       "9  {'place_data': [{'class': 'sky', 'ioclass': 'o...   \n",
       "\n",
       "                                                exif                 time  \\\n",
       "2  -Image Width\\n2288\\n-Image Length\\n2373\\n-Bits...  2007:11:24 17:06:09   \n",
       "5  -Make\\nPanasonic\\n-Model\\nDMC-FX12\\n-Orientati...  2008:05:26 14:35:17   \n",
       "6  -Image Width\\n2769\\n-Image Length\\n2769\\n-Bits...  2008:06:21 16:12:37   \n",
       "8  -Image Description\\nThe field filled with a qu...  2008:06:22 07:58:38   \n",
       "9  -Make\\nNIKON CORPORATION\\n-Model\\nNIKON D50\\n-...  2008:06:05 02:25:33   \n",
       "\n",
       "   is_outdoor  \n",
       "2        True  \n",
       "5        True  \n",
       "6        True  \n",
       "8        True  \n",
       "9        True  "
      ]
     },
     "execution_count": 4,
     "metadata": {},
     "output_type": "execute_result"
    }
   ],
   "source": [
    "print(len(df))\n",
    "df.head()"
   ]
  },
  {
   "cell_type": "code",
   "execution_count": 5,
   "id": "15be3d38",
   "metadata": {},
   "outputs": [],
   "source": [
    "df['attr'] = df['attr'].apply(lambda x: eval(x))"
   ]
  },
  {
   "cell_type": "code",
   "execution_count": 8,
   "id": "495823cb",
   "metadata": {},
   "outputs": [],
   "source": [
    "df['time'] = df['time'].apply(lambda s: datetime.datetime.strptime(s, '%Y:%m:%d %H:%M:%S'))"
   ]
  },
  {
   "cell_type": "code",
   "execution_count": 21,
   "id": "5b7583c8",
   "metadata": {},
   "outputs": [],
   "source": [
    "def is_daylight_or_night(t):\n",
    "    if t.hour > 4 and t.hour < 17:\n",
    "        if t.hour > 10 and t.hour < 15:\n",
    "            return 'midday'\n",
    "        return 'daylight'\n",
    "    return 'night'\n",
    "\n",
    "def check_unmatch_time(r):\n",
    "    tag = is_daylight_or_night(r['time'])\n",
    "    transient = [s['class'].split('/')[1] for s in r['attr']['transient_data'] if 'time/' in s['class']]\n",
    "    if tag in transient:\n",
    "        return 'matched'\n",
    "    return 'unmatched'"
   ]
  },
  {
   "cell_type": "code",
   "execution_count": 22,
   "id": "290f0a16",
   "metadata": {},
   "outputs": [],
   "source": [
    "df['match'] = df.apply(check_unmatch_time, axis=1)"
   ]
  },
  {
   "cell_type": "code",
   "execution_count": 32,
   "id": "749e77b9",
   "metadata": {},
   "outputs": [],
   "source": [
    "df['norm_time'] = df.time.apply(lambda t: (t.hour*60*60+t.minute*60+t.second)/86400)"
   ]
  },
  {
   "cell_type": "code",
   "execution_count": 33,
   "id": "bd47942e",
   "metadata": {},
   "outputs": [],
   "source": [
    "filter_df = df[df['match'] == 'matched']"
   ]
  },
  {
   "cell_type": "code",
   "execution_count": 35,
   "id": "0d727e06",
   "metadata": {},
   "outputs": [
    {
     "data": {
      "text/html": [
       "<div>\n",
       "<style scoped>\n",
       "    .dataframe tbody tr th:only-of-type {\n",
       "        vertical-align: middle;\n",
       "    }\n",
       "\n",
       "    .dataframe tbody tr th {\n",
       "        vertical-align: top;\n",
       "    }\n",
       "\n",
       "    .dataframe thead th {\n",
       "        text-align: right;\n",
       "    }\n",
       "</style>\n",
       "<table border=\"1\" class=\"dataframe\">\n",
       "  <thead>\n",
       "    <tr style=\"text-align: right;\">\n",
       "      <th></th>\n",
       "      <th>img</th>\n",
       "      <th>attr</th>\n",
       "      <th>exif</th>\n",
       "      <th>time</th>\n",
       "      <th>is_outdoor</th>\n",
       "      <th>match</th>\n",
       "      <th>norm_time</th>\n",
       "    </tr>\n",
       "  </thead>\n",
       "  <tbody>\n",
       "    <tr>\n",
       "      <th>6</th>\n",
       "      <td>G:\\My Drive\\MIRFLICKR\\mirflickr25k\\im1.jpg</td>\n",
       "      <td>{'place_data': [{'class': 'picnic_area', 'iocl...</td>\n",
       "      <td>-Image Width\\n2769\\n-Image Length\\n2769\\n-Bits...</td>\n",
       "      <td>2008-06-21 16:12:37</td>\n",
       "      <td>True</td>\n",
       "      <td>matched</td>\n",
       "      <td>0.675428</td>\n",
       "    </tr>\n",
       "    <tr>\n",
       "      <th>8</th>\n",
       "      <td>G:\\My Drive\\MIRFLICKR\\mirflickr25k\\im100.jpg</td>\n",
       "      <td>{'place_data': [{'class': 'rice_paddy', 'iocla...</td>\n",
       "      <td>-Image Description\\nThe field filled with a qu...</td>\n",
       "      <td>2008-06-22 07:58:38</td>\n",
       "      <td>True</td>\n",
       "      <td>matched</td>\n",
       "      <td>0.332384</td>\n",
       "    </tr>\n",
       "    <tr>\n",
       "      <th>10</th>\n",
       "      <td>G:\\My Drive\\MIRFLICKR\\mirflickr25k\\im10000.jpg</td>\n",
       "      <td>{'place_data': [{'class': 'embassy', 'ioclass'...</td>\n",
       "      <td>-Make\\nCanon\\n-Model\\nCanon EOS 20D\\n-X-Resolu...</td>\n",
       "      <td>2007-11-29 01:05:59</td>\n",
       "      <td>True</td>\n",
       "      <td>matched</td>\n",
       "      <td>0.045822</td>\n",
       "    </tr>\n",
       "    <tr>\n",
       "      <th>21</th>\n",
       "      <td>G:\\My Drive\\MIRFLICKR\\mirflickr25k\\im10101.jpg</td>\n",
       "      <td>{'place_data': [{'class': 'rock_arch', 'ioclas...</td>\n",
       "      <td>-Make\\nNIKON\\n-Model\\nCOOLPIX L1\\n-Orientation...</td>\n",
       "      <td>2007-11-25 05:06:16</td>\n",
       "      <td>True</td>\n",
       "      <td>matched</td>\n",
       "      <td>0.212685</td>\n",
       "    </tr>\n",
       "    <tr>\n",
       "      <th>25</th>\n",
       "      <td>G:\\My Drive\\MIRFLICKR\\mirflickr25k\\im101.jpg</td>\n",
       "      <td>{'place_data': [{'class': 'hospital', 'ioclass...</td>\n",
       "      <td>-Image Description\\nSONY DSC\\n-Make\\nSONY\\n-Mo...</td>\n",
       "      <td>2008-06-28 22:01:52</td>\n",
       "      <td>True</td>\n",
       "      <td>matched</td>\n",
       "      <td>0.917963</td>\n",
       "    </tr>\n",
       "  </tbody>\n",
       "</table>\n",
       "</div>"
      ],
      "text/plain": [
       "                                               img  \\\n",
       "6       G:\\My Drive\\MIRFLICKR\\mirflickr25k\\im1.jpg   \n",
       "8     G:\\My Drive\\MIRFLICKR\\mirflickr25k\\im100.jpg   \n",
       "10  G:\\My Drive\\MIRFLICKR\\mirflickr25k\\im10000.jpg   \n",
       "21  G:\\My Drive\\MIRFLICKR\\mirflickr25k\\im10101.jpg   \n",
       "25    G:\\My Drive\\MIRFLICKR\\mirflickr25k\\im101.jpg   \n",
       "\n",
       "                                                 attr  \\\n",
       "6   {'place_data': [{'class': 'picnic_area', 'iocl...   \n",
       "8   {'place_data': [{'class': 'rice_paddy', 'iocla...   \n",
       "10  {'place_data': [{'class': 'embassy', 'ioclass'...   \n",
       "21  {'place_data': [{'class': 'rock_arch', 'ioclas...   \n",
       "25  {'place_data': [{'class': 'hospital', 'ioclass...   \n",
       "\n",
       "                                                 exif                time  \\\n",
       "6   -Image Width\\n2769\\n-Image Length\\n2769\\n-Bits... 2008-06-21 16:12:37   \n",
       "8   -Image Description\\nThe field filled with a qu... 2008-06-22 07:58:38   \n",
       "10  -Make\\nCanon\\n-Model\\nCanon EOS 20D\\n-X-Resolu... 2007-11-29 01:05:59   \n",
       "21  -Make\\nNIKON\\n-Model\\nCOOLPIX L1\\n-Orientation... 2007-11-25 05:06:16   \n",
       "25  -Image Description\\nSONY DSC\\n-Make\\nSONY\\n-Mo... 2008-06-28 22:01:52   \n",
       "\n",
       "    is_outdoor    match  norm_time  \n",
       "6         True  matched   0.675428  \n",
       "8         True  matched   0.332384  \n",
       "10        True  matched   0.045822  \n",
       "21        True  matched   0.212685  \n",
       "25        True  matched   0.917963  "
      ]
     },
     "execution_count": 35,
     "metadata": {},
     "output_type": "execute_result"
    }
   ],
   "source": [
    "filter_df.head()"
   ]
  },
  {
   "cell_type": "code",
   "execution_count": 34,
   "id": "f1b4669a",
   "metadata": {},
   "outputs": [],
   "source": [
    "filter_df.to_csv('label_train.tsv', sep='\\t')"
   ]
  },
  {
   "cell_type": "markdown",
   "id": "e4f0ed06",
   "metadata": {},
   "source": [
    "# Generate HTML for labeling"
   ]
  },
  {
   "cell_type": "code",
   "execution_count": 28,
   "id": "876bcab1",
   "metadata": {},
   "outputs": [],
   "source": [
    "header = '''\n",
    "<!DOCTYPE html>\n",
    "<html>\n",
    "<style>\n",
    "table, th, td {\n",
    "  border:1px solid black;\n",
    "}\n",
    "</style>\n",
    "<head>\n",
    "  <script type=\"text/javascript\">\n",
    "    var remove_files = [];\n",
    "    function add_to_remove(file_path){\n",
    "      document.getElementById(file_path).disabled = true;\n",
    "      remove_files.push(file_path);\n",
    "      //alert(remove_files);\n",
    "    };\n",
    "\n",
    "    function download() {\n",
    "      var text = remove_files.join('\\\\n');\n",
    "      var element = document.createElement('a');\n",
    "      element.setAttribute('href', 'data:text/plain;charset=utf-8,' + encodeURIComponent(text));\n",
    "      element.setAttribute('download', 'download.txt');\n",
    "\n",
    "      element.style.display = 'none';\n",
    "      document.body.appendChild(element);\n",
    "\n",
    "      element.click();\n",
    "\n",
    "      document.body.removeChild(element);\n",
    "    };\n",
    "  </script>\n",
    "</head>\n",
    "<body>\n",
    "\n",
    "<h2>HTML View Image Time</h2>\n",
    "\n",
    "<table style=\"width:100%\">\n",
    "  <tr>\n",
    "    <th>Image</th>\n",
    "    <th>Time</th>\n",
    "    <th>Label</th>\n",
    "  </tr>\n",
    "'''\n",
    "footer = '''\n",
    "</table>\n",
    "</body>\n",
    "</html>\n",
    "'''"
   ]
  },
  {
   "cell_type": "code",
   "execution_count": 29,
   "id": "6e2fe38a",
   "metadata": {},
   "outputs": [],
   "source": [
    "def generate_html(df):\n",
    "    table_content = ''\n",
    "    idx = 0\n",
    "    for _, row in df.iterrows():\n",
    "        idx += 1\n",
    "        table_content += '''\n",
    "            <tr>\n",
    "              <td><p>{}</p><img src=\"{}\"></td>\n",
    "              <td>{}</td>\n",
    "              <td><button onclick=\"add_to_remove(this.id);\" id=\"{}\">Remove</button><br>\n",
    "                  <button onclick=\"download();\">Download</button></td>\n",
    "            </tr>\n",
    "        '''.format(row['img'], row['img'], row['time'], row['img'])\n",
    "\n",
    "        if idx%1000 == 0:\n",
    "            with open('view_image_time_'+str(idx)+'.html', 'w') as html:\n",
    "                html.write(header+table_content+footer)\n",
    "            table_content = ''"
   ]
  },
  {
   "cell_type": "code",
   "execution_count": 30,
   "id": "34121fbc",
   "metadata": {},
   "outputs": [],
   "source": [
    "generate_html(filter_df)"
   ]
  },
  {
   "cell_type": "code",
   "execution_count": null,
   "id": "7e6f1d26",
   "metadata": {},
   "outputs": [],
   "source": []
  }
 ],
 "metadata": {
  "kernelspec": {
   "display_name": "Python 3 (ipykernel)",
   "language": "python",
   "name": "python3"
  },
  "language_info": {
   "codemirror_mode": {
    "name": "ipython",
    "version": 3
   },
   "file_extension": ".py",
   "mimetype": "text/x-python",
   "name": "python",
   "nbconvert_exporter": "python",
   "pygments_lexer": "ipython3",
   "version": "3.8.6"
  }
 },
 "nbformat": 4,
 "nbformat_minor": 5
}
